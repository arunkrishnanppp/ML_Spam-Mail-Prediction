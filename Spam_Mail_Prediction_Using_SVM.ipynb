{
  "nbformat": 4,
  "nbformat_minor": 0,
  "metadata": {
    "colab": {
      "name": "Spam Mail Prediction Using SVM.ipynb",
      "provenance": [],
      "collapsed_sections": [],
      "authorship_tag": "ABX9TyMdm3R+Ej1g+E9XZ88ftZi1",
      "include_colab_link": true
    },
    "kernelspec": {
      "name": "python3",
      "display_name": "Python 3"
    }
  },
  "cells": [
    {
      "cell_type": "markdown",
      "metadata": {
        "id": "view-in-github",
        "colab_type": "text"
      },
      "source": [
        "<a href=\"https://colab.research.google.com/github/arunkrishnanppp/ML_Spam-Mail-Prediction/blob/master/Spam_Mail_Prediction_Using_SVM.ipynb\" target=\"_parent\"><img src=\"https://colab.research.google.com/assets/colab-badge.svg\" alt=\"Open In Colab\"/></a>"
      ]
    },
    {
      "cell_type": "markdown",
      "metadata": {
        "id": "NxWYldB0EZ72"
      },
      "source": [
        "*SPAM MAIL* DETECTIO USING SVM- **SUPPORT VECTOR MACHINE**\n",
        "\n",
        "Libraries used\n",
        "\n",
        "\n",
        "*   numpy\n",
        "*   pandas\n",
        "\n",
        "\n",
        "*   sklearn-train_test_split\n",
        "\n",
        "*   sklearn-feature_extraction.text-Tfidf\n",
        "*   sklearn-svc\n",
        "\n",
        "\n",
        "\n",
        "\n",
        "\n",
        "\n",
        "\n"
      ]
    },
    {
      "cell_type": "code",
      "metadata": {
        "id": "4YKByOCiEnW0"
      },
      "source": [
        "# importing libraries\n",
        "import numpy as np\n",
        "import pandas as pd\n",
        "from sklearn.model_selection import train_test_split\n",
        "from sklearn.feature_extraction.text import TfidfVectorizer\n",
        "# this tfifdvectorisation is being used for vectorising the text data into vector functions for training the svm model\n",
        "from sklearn.svm import LinearSVC"
      ],
      "execution_count": null,
      "outputs": []
    },
    {
      "cell_type": "markdown",
      "metadata": {
        "id": "QCfNRe2zGPil"
      },
      "source": [
        "***Loading the dataset***"
      ]
    },
    {
      "cell_type": "code",
      "metadata": {
        "id": "l7xJ6oh3GS2x",
        "outputId": "37bc63bd-5754-4417-89f1-39666c90bd3e",
        "colab": {
          "base_uri": "https://localhost:8080/",
          "height": 445
        }
      },
      "source": [
        "dataset=pd.read_csv('spamham.csv')\n",
        "print(dataset)\n",
        "dataset.head()"
      ],
      "execution_count": null,
      "outputs": [
        {
          "output_type": "stream",
          "text": [
            "     Category                                            Message\n",
            "0         ham  Go until jurong point, crazy.. Available only ...\n",
            "1         ham                      Ok lar... Joking wif u oni...\n",
            "2        spam  Free entry in 2 a wkly comp to win FA Cup fina...\n",
            "3         ham  U dun say so early hor... U c already then say...\n",
            "4         ham  Nah I don't think he goes to usf, he lives aro...\n",
            "...       ...                                                ...\n",
            "5568      ham               Will ü b going to esplanade fr home?\n",
            "5569      ham  Pity, * was in mood for that. So...any other s...\n",
            "5570      ham  The guy did some bitching but I acted like i'd...\n",
            "5571      ham                         Rofl. Its true to its name\n",
            "5572      ham                                                NaN\n",
            "\n",
            "[5573 rows x 2 columns]\n"
          ],
          "name": "stdout"
        },
        {
          "output_type": "execute_result",
          "data": {
            "text/html": [
              "<div>\n",
              "<style scoped>\n",
              "    .dataframe tbody tr th:only-of-type {\n",
              "        vertical-align: middle;\n",
              "    }\n",
              "\n",
              "    .dataframe tbody tr th {\n",
              "        vertical-align: top;\n",
              "    }\n",
              "\n",
              "    .dataframe thead th {\n",
              "        text-align: right;\n",
              "    }\n",
              "</style>\n",
              "<table border=\"1\" class=\"dataframe\">\n",
              "  <thead>\n",
              "    <tr style=\"text-align: right;\">\n",
              "      <th></th>\n",
              "      <th>Category</th>\n",
              "      <th>Message</th>\n",
              "    </tr>\n",
              "  </thead>\n",
              "  <tbody>\n",
              "    <tr>\n",
              "      <th>0</th>\n",
              "      <td>ham</td>\n",
              "      <td>Go until jurong point, crazy.. Available only ...</td>\n",
              "    </tr>\n",
              "    <tr>\n",
              "      <th>1</th>\n",
              "      <td>ham</td>\n",
              "      <td>Ok lar... Joking wif u oni...</td>\n",
              "    </tr>\n",
              "    <tr>\n",
              "      <th>2</th>\n",
              "      <td>spam</td>\n",
              "      <td>Free entry in 2 a wkly comp to win FA Cup fina...</td>\n",
              "    </tr>\n",
              "    <tr>\n",
              "      <th>3</th>\n",
              "      <td>ham</td>\n",
              "      <td>U dun say so early hor... U c already then say...</td>\n",
              "    </tr>\n",
              "    <tr>\n",
              "      <th>4</th>\n",
              "      <td>ham</td>\n",
              "      <td>Nah I don't think he goes to usf, he lives aro...</td>\n",
              "    </tr>\n",
              "  </tbody>\n",
              "</table>\n",
              "</div>"
            ],
            "text/plain": [
              "  Category                                            Message\n",
              "0      ham  Go until jurong point, crazy.. Available only ...\n",
              "1      ham                      Ok lar... Joking wif u oni...\n",
              "2     spam  Free entry in 2 a wkly comp to win FA Cup fina...\n",
              "3      ham  U dun say so early hor... U c already then say...\n",
              "4      ham  Nah I don't think he goes to usf, he lives aro..."
            ]
          },
          "metadata": {
            "tags": []
          },
          "execution_count": 11
        }
      ]
    },
    {
      "cell_type": "markdown",
      "metadata": {
        "id": "Y5bV1RadGj2j"
      },
      "source": [
        "We need to replace the null values to Null String\n",
        "**DATA PREPROCESSING**\n"
      ]
    },
    {
      "cell_type": "code",
      "metadata": {
        "id": "ljSl8UevGrIf",
        "outputId": "4f91f74a-b3b8-4d36-d2e1-fde0d07ea019",
        "colab": {
          "base_uri": "https://localhost:8080/",
          "height": 277
        }
      },
      "source": [
        "mail_data=dataset.where((pd.notnull(dataset)),'')\n",
        "# this will replace null value with a null string\n",
        "print(mail_data)\n",
        "print(mail_data.shape)"
      ],
      "execution_count": null,
      "outputs": [
        {
          "output_type": "stream",
          "text": [
            "     Category                                            Message\n",
            "0         ham  Go until jurong point, crazy.. Available only ...\n",
            "1         ham                      Ok lar... Joking wif u oni...\n",
            "2        spam  Free entry in 2 a wkly comp to win FA Cup fina...\n",
            "3         ham  U dun say so early hor... U c already then say...\n",
            "4         ham  Nah I don't think he goes to usf, he lives aro...\n",
            "...       ...                                                ...\n",
            "5568      ham               Will ü b going to esplanade fr home?\n",
            "5569      ham  Pity, * was in mood for that. So...any other s...\n",
            "5570      ham  The guy did some bitching but I acted like i'd...\n",
            "5571      ham                         Rofl. Its true to its name\n",
            "5572      ham                                                   \n",
            "\n",
            "[5573 rows x 2 columns]\n",
            "(5573, 2)\n"
          ],
          "name": "stdout"
        }
      ]
    },
    {
      "cell_type": "markdown",
      "metadata": {
        "id": "-5ZZysCOKTFD"
      },
      "source": [
        "**Chnage Labels**\n",
        "\n",
        "\n",
        "\n",
        "1.   For Spam--->0\n",
        "2.   For Ham---->1\n",
        "\n"
      ]
    },
    {
      "cell_type": "code",
      "metadata": {
        "id": "U6nvB6SVKd34",
        "outputId": "673abf15-1a0c-4b53-b3b4-ed52c54e0010",
        "colab": {
          "base_uri": "https://localhost:8080/",
          "height": 225
        }
      },
      "source": [
        "mail_data.loc[mail_data['Category']=='spam','Category']=0\n",
        "mail_data.loc[mail_data['Category']=='ham','Category']=1\n",
        "print(mail_data['Message'])"
      ],
      "execution_count": null,
      "outputs": [
        {
          "output_type": "stream",
          "text": [
            "0       Go until jurong point, crazy.. Available only ...\n",
            "1                           Ok lar... Joking wif u oni...\n",
            "2       Free entry in 2 a wkly comp to win FA Cup fina...\n",
            "3       U dun say so early hor... U c already then say...\n",
            "4       Nah I don't think he goes to usf, he lives aro...\n",
            "                              ...                        \n",
            "5568                 Will ü b going to esplanade fr home?\n",
            "5569    Pity, * was in mood for that. So...any other s...\n",
            "5570    The guy did some bitching but I acted like i'd...\n",
            "5571                           Rofl. Its true to its name\n",
            "5572                                                     \n",
            "Name: Message, Length: 5573, dtype: object\n"
          ],
          "name": "stdout"
        }
      ]
    },
    {
      "cell_type": "markdown",
      "metadata": {
        "id": "PCK5o6pXTCEj"
      },
      "source": [
        "**Splitting The data into X and Y**"
      ]
    },
    {
      "cell_type": "code",
      "metadata": {
        "id": "bGQYiBq7SKxk"
      },
      "source": [
        "X=mail_data['Message']\n",
        "Y=mail_data['Category']"
      ],
      "execution_count": null,
      "outputs": []
    },
    {
      "cell_type": "markdown",
      "metadata": {
        "id": "8avE6GSGiPxy"
      },
      "source": [
        "**Split the data into traing and testing**"
      ]
    },
    {
      "cell_type": "code",
      "metadata": {
        "id": "-y2p_3nUiUOM",
        "outputId": "23fb12db-eca5-49f5-c157-e6baebccad48",
        "colab": {
          "base_uri": "https://localhost:8080/",
          "height": 225
        }
      },
      "source": [
        "X_train,X_test,Y_train,Y_test=train_test_split(X,Y,train_size=0.8, test_size=0.2, random_state=3)\n",
        "print(X_train)"
      ],
      "execution_count": null,
      "outputs": [
        {
          "output_type": "stream",
          "text": [
            "2315    Also that chat was awesome but don't make it r...\n",
            "2041          You always make things bigger than they are\n",
            "3079               Okay but i thought you were the expert\n",
            "3423    Freemsg: 1-month unlimited free calls! Activat...\n",
            "1698    Hai priya are you right. What doctor said pa. ...\n",
            "                              ...                        \n",
            "789     5 Free Top Polyphonic Tones call 087018728737,...\n",
            "968     What do u want when i come back?.a beautiful n...\n",
            "1667    Guess who spent all last night phasing in and ...\n",
            "3321    Eh sorry leh... I din c ur msg. Not sad alread...\n",
            "1688    Free Top ringtone -sub to weekly ringtone-get ...\n",
            "Name: Message, Length: 4458, dtype: object\n"
          ],
          "name": "stdout"
        }
      ]
    },
    {
      "cell_type": "markdown",
      "metadata": {
        "id": "gXJY__LXLSGa"
      },
      "source": [
        "**Feature Extraction**\n",
        "\n",
        "For text use the Tfidf\n",
        "Vectorization\n",
        "\n",
        "\n",
        "\n",
        "\n",
        "\n",
        "\n",
        "For Category use integer\n",
        "\n",
        "**stop_words**{‘english’}, list, default=None\n",
        "If a string, it is passed to _check_stop_list and the appropriate stop list is returned. ‘english’ is currently the only supported string value. \n",
        "\n",
        "**min_df** \n",
        "float or int, default=1\n",
        "When building the vocabulary ignore terms that have a document frequency strictly lower than the given threshold. "
      ]
    },
    {
      "cell_type": "code",
      "metadata": {
        "id": "tCC_-fHDLU7y",
        "outputId": "cdba56d9-7c8f-42a6-8cd7-a931ce448e02",
        "colab": {
          "base_uri": "https://localhost:8080/",
          "height": 1000
        }
      },
      "source": [
        "feature_extraction=TfidfVectorizer(min_df=1,stop_words='english',lowercase=True)\n",
        "X_train_features=feature_extraction.fit_transform(X_train)\n",
        "X_test_features=feature_extraction.transform(X_test)\n",
        "print(X_feature)\n",
        "Y_train=Y_train.astype('int')\n",
        "Y_test=Y_test.astype('int')\n",
        "print(Y_train_features)"
      ],
      "execution_count": null,
      "outputs": [
        {
          "output_type": "stream",
          "text": [
            "  (0, 8079)\t0.1961054956677968\n",
            "  (0, 1061)\t0.3509731160779745\n",
            "  (0, 3511)\t0.16454127637911506\n",
            "  (0, 2003)\t0.2965046008039979\n",
            "  (0, 1713)\t0.33504209662535755\n",
            "  (0, 4370)\t0.2965046008039979\n",
            "  (0, 8281)\t0.23740830426177567\n",
            "  (0, 3551)\t0.19388089807936218\n",
            "  (0, 1715)\t0.2965046008039979\n",
            "  (0, 1281)\t0.26251822139058906\n",
            "  (0, 2278)\t0.2718061086746337\n",
            "  (0, 5775)\t0.27451688885219044\n",
            "  (0, 4244)\t0.3509731160779745\n",
            "  (1, 5399)\t0.5466219551250759\n",
            "  (1, 8187)\t0.4316302868726235\n",
            "  (1, 4212)\t0.5236786867319152\n",
            "  (1, 4406)\t0.4083271880857088\n",
            "  (1, 5373)\t0.2718993824234455\n",
            "  (2, 77)\t0.2377537557266179\n",
            "  (2, 1138)\t0.17089653784347236\n",
            "  (2, 6100)\t0.17089653784347236\n",
            "  (2, 7750)\t0.12585432322287404\n",
            "  (2, 7073)\t0.1991016155756406\n",
            "  (2, 6048)\t0.18096217672900436\n",
            "  (2, 6154)\t0.16925596906008444\n",
            "  :\t:\n",
            "  (5567, 464)\t0.23453961656041666\n",
            "  (5567, 5146)\t0.24455105657838658\n",
            "  (5567, 8256)\t0.19190947196221614\n",
            "  (5567, 2009)\t0.18662576510310513\n",
            "  (5567, 5930)\t0.19619579747180274\n",
            "  (5567, 6100)\t0.23094842055196654\n",
            "  (5568, 2917)\t0.6485954455351258\n",
            "  (5568, 3263)\t0.5597086342533678\n",
            "  (5568, 3480)\t0.3642412484432335\n",
            "  (5568, 3809)\t0.36521022125049585\n",
            "  (5569, 7213)\t0.6095301420491274\n",
            "  (5569, 5707)\t0.6095301420491274\n",
            "  (5569, 5018)\t0.5068984236187181\n",
            "  (5570, 1511)\t0.4265766953998754\n",
            "  (5570, 908)\t0.4072139541495209\n",
            "  (5570, 4063)\t0.35475038810016873\n",
            "  (5570, 3605)\t0.30408908861043493\n",
            "  (5570, 1749)\t0.35475038810016873\n",
            "  (5570, 3388)\t0.34516748028624705\n",
            "  (5570, 2542)\t0.231053744687791\n",
            "  (5570, 4508)\t0.19998532856028417\n",
            "  (5570, 8125)\t0.23564503665710984\n",
            "  (5570, 3276)\t0.19998532856028417\n",
            "  (5571, 6362)\t0.7963252956342488\n",
            "  (5571, 7705)\t0.6048686002207638\n",
            "3670    1\n",
            "2663    0\n",
            "1791    1\n",
            "1950    1\n",
            "848     1\n",
            "       ..\n",
            "3935    1\n",
            "5093    1\n",
            "3044    1\n",
            "4316    1\n",
            "2869    1\n",
            "Name: Category, Length: 4179, dtype: int64\n"
          ],
          "name": "stdout"
        }
      ]
    },
    {
      "cell_type": "code",
      "metadata": {
        "id": "QwtVXXCpU4Lr",
        "outputId": "02b047e5-46ea-4457-cfc2-b5c53015c06f",
        "colab": {
          "base_uri": "https://localhost:8080/",
          "height": 87
        }
      },
      "source": [
        "SVM_Model=LinearSVC()\n",
        "SVM_Model.fit(X_train_features,Y_train)"
      ],
      "execution_count": null,
      "outputs": [
        {
          "output_type": "execute_result",
          "data": {
            "text/plain": [
              "LinearSVC(C=1.0, class_weight=None, dual=True, fit_intercept=True,\n",
              "          intercept_scaling=1, loss='squared_hinge', max_iter=1000,\n",
              "          multi_class='ovr', penalty='l2', random_state=None, tol=0.0001,\n",
              "          verbose=0)"
            ]
          },
          "metadata": {
            "tags": []
          },
          "execution_count": 133
        }
      ]
    },
    {
      "cell_type": "markdown",
      "metadata": {
        "id": "TzU5_NqzVnsh"
      },
      "source": [
        "**Now Test the model Baes on prediction On training set**"
      ]
    },
    {
      "cell_type": "code",
      "metadata": {
        "id": "rQmzLQf5Vxh2"
      },
      "source": [
        "prediction_training_set=SVM_Model.predict(X_train_features)\n"
      ],
      "execution_count": null,
      "outputs": []
    },
    {
      "cell_type": "markdown",
      "metadata": {
        "id": "_1A_bNojV9Ue"
      },
      "source": [
        "**Import the accuracy score from sklearn.metrics for checking the accuracy**"
      ]
    },
    {
      "cell_type": "code",
      "metadata": {
        "id": "sPmBbJ0rWEVE"
      },
      "source": [
        "from sklearn.metrics import accuracy_score\n"
      ],
      "execution_count": null,
      "outputs": []
    },
    {
      "cell_type": "code",
      "metadata": {
        "id": "ZxXZZRnkWIRw",
        "outputId": "2c60e4c8-cc81-4b88-e838-1e066352e995",
        "colab": {
          "base_uri": "https://localhost:8080/",
          "height": 35
        }
      },
      "source": [
        "accuracy=accuracy_score(Y_train,prediction_training_set)\n",
        "print('Accuracy on Training set',accuracy)"
      ],
      "execution_count": null,
      "outputs": [
        {
          "output_type": "stream",
          "text": [
            "Accuracy on Training set 0.9995513683266039\n"
          ],
          "name": "stdout"
        }
      ]
    },
    {
      "cell_type": "markdown",
      "metadata": {
        "id": "8IWVxO9mWiha"
      },
      "source": [
        "**Testing the accuracy of testing set**"
      ]
    },
    {
      "cell_type": "code",
      "metadata": {
        "id": "LBiqKRTnWliC",
        "outputId": "e2c54b45-2fe1-4eb3-d36f-53e448a936ee",
        "colab": {
          "base_uri": "https://localhost:8080/",
          "height": 35
        }
      },
      "source": [
        "prediction_testng_set=SVM_Model.predict(X_test_features)\n",
        "accuracy=accuracy_score(Y_test,prediction_testng_set)\n",
        "print(\"Accuracy on testing set\",accuracy)"
      ],
      "execution_count": null,
      "outputs": [
        {
          "output_type": "stream",
          "text": [
            "Accuracy on testing set 0.9820627802690582\n"
          ],
          "name": "stdout"
        }
      ]
    },
    {
      "cell_type": "markdown",
      "metadata": {
        "id": "psr9uLY1X1ob"
      },
      "source": [
        "**Tesing on New Mail**"
      ]
    },
    {
      "cell_type": "code",
      "metadata": {
        "id": "sfYvwGMdX4kp",
        "outputId": "14f424a3-48b1-436d-9fd1-61771f77a1cb",
        "colab": {
          "base_uri": "https://localhost:8080/",
          "height": 35
        }
      },
      "source": [
        "inp=['Free entry in 2 a wkly comp to win FA Cup final tkts 21st May 2005. Text FA to 87121 to receive entry question(std txt rate)T&C\\'s apply 08452810075over18\\'s']\n",
        "# inp=[\"I've been searching for the right words to thank you for this breather. I promise i wont take your help for granted and will fulfil my promise. You have been wonderful and a blessing at all times.\"]\n",
        "extracted_input=feature_extraction.transform(inp)\n",
        "\n",
        "\n",
        "prediction=SVM_Model.predict(extracted_input)\n",
        "if prediction[0]==0:\n",
        "   print('SPAM MAIL')\n",
        "else:\n",
        "  print('HAM MAIL')"
      ],
      "execution_count": null,
      "outputs": [
        {
          "output_type": "stream",
          "text": [
            "SPAM MAIL\n"
          ],
          "name": "stdout"
        }
      ]
    }
  ]
}